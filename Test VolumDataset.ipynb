{
 "cells": [
  {
   "cell_type": "code",
   "execution_count": 23,
   "metadata": {},
   "outputs": [],
   "source": [
    "from VolumeDataset import VolumeDataset\n",
    "from torch.utils.data import Dataset, DataLoader\n",
    "from collections import namedtuple\n",
    "import torch"
   ]
  },
  {
   "cell_type": "code",
   "execution_count": 24,
   "metadata": {},
   "outputs": [],
   "source": [
    "#visualize_volume = False --> not visualize\n",
    "#visualize_volume = True  --> visualize in napari"
   ]
  },
  {
   "cell_type": "code",
   "execution_count": 25,
   "metadata": {},
   "outputs": [],
   "source": [
    "OPT= namedtuple('opt', 'dataroot visualize_volume load_mask inshape origshape min_size crop_size load_size output_nc input_nc direction isTrain')\n",
    "opt = OPT(dataroot=\"dataset/sample_data\", visualize_volume=False, load_mask=False, inshape=[128] * 3, \n",
    "           origshape = [80] * 3, min_size=80, crop_size=80, load_size=80, output_nc=3, input_nc=3, direction = 'BtoA',isTrain=True)"
   ]
  },
  {
   "cell_type": "code",
   "execution_count": 26,
   "metadata": {},
   "outputs": [],
   "source": [
    "traindata = VolumeDataset(opt)"
   ]
  },
  {
   "cell_type": "code",
   "execution_count": 27,
   "metadata": {},
   "outputs": [
    {
     "name": "stdout",
     "output_type": "stream",
     "text": [
      "dataset/sample_data\\trial108_08112016\\10FDA8\\preprocessed\\rigid\\cropped\n",
      "Subject(Keys: ('mr', 'trus'); images: 2)\n"
     ]
    }
   ],
   "source": [
    "sample, subject =  traindata.load_subject_(0)\n",
    "print(sample)\n",
    "print(subject)"
   ]
  },
  {
   "cell_type": "code",
   "execution_count": 28,
   "metadata": {},
   "outputs": [],
   "source": [
    "mr = traindata.__getitem__(0)[\"A\"]\n",
    "trus = traindata.__getitem__(0)[\"B\"]"
   ]
  },
  {
   "cell_type": "markdown",
   "metadata": {},
   "source": [
    "Save as 2 .pt file for testing"
   ]
  },
  {
   "cell_type": "code",
   "execution_count": 39,
   "metadata": {},
   "outputs": [],
   "source": [
    "torch.save(mr, 'dataset\\\\test\\\\mr.pt')\n",
    "torch.save(trus, 'dataset\\\\test\\\\trus.pt')"
   ]
  }
 ],
 "metadata": {
  "kernelspec": {
   "display_name": "Python 3",
   "language": "python",
   "name": "python3"
  },
  "language_info": {
   "codemirror_mode": {
    "name": "ipython",
    "version": 3
   },
   "file_extension": ".py",
   "mimetype": "text/x-python",
   "name": "python",
   "nbconvert_exporter": "python",
   "pygments_lexer": "ipython3",
   "version": "3.8.3"
  }
 },
 "nbformat": 4,
 "nbformat_minor": 4
}
