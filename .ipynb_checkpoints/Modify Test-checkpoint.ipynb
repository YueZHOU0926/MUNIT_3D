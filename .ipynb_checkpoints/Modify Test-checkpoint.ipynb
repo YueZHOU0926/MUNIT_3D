{
 "cells": [
  {
   "cell_type": "code",
   "execution_count": 28,
   "metadata": {},
   "outputs": [
    {
     "name": "stdout",
     "output_type": "stream",
     "text": [
      "The autoreload extension is already loaded. To reload it, use:\n",
      "  %reload_ext autoreload\n"
     ]
    }
   ],
   "source": [
    "import networks\n",
    "import networks3d\n",
    "import torchsummary\n",
    "import torch\n",
    "import trainer\n",
    "from torch import nn\n",
    "%load_ext autoreload\n",
    "%autoreload 2"
   ]
  },
  {
   "cell_type": "code",
   "execution_count": 9,
   "metadata": {},
   "outputs": [
    {
     "name": "stdout",
     "output_type": "stream",
     "text": [
      "cuda:0\n"
     ]
    }
   ],
   "source": [
    "device = torch.device(\"cuda:0\" if torch.cuda.is_available() else \"cpu\")\n",
    "print(device)"
   ]
  },
  {
   "cell_type": "code",
   "execution_count": 19,
   "metadata": {},
   "outputs": [
    {
     "name": "stdout",
     "output_type": "stream",
     "text": [
      "----------------------------------------------------------------\n",
      "        Layer (type)               Output Shape         Param #\n",
      "================================================================\n",
      "  ReplicationPad2d-1          [-1, 3, 134, 134]               0\n",
      "            Conv2d-2          [-1, 2, 128, 128]             296\n",
      "    InstanceNorm2d-3          [-1, 2, 128, 128]               0\n",
      "              ReLU-4          [-1, 2, 128, 128]               0\n",
      "       Conv2dBlock-5          [-1, 2, 128, 128]               0\n",
      "  ReplicationPad2d-6          [-1, 2, 130, 130]               0\n",
      "            Conv2d-7            [-1, 4, 64, 64]             132\n",
      "    InstanceNorm2d-8            [-1, 4, 64, 64]               0\n",
      "              ReLU-9            [-1, 4, 64, 64]               0\n",
      "      Conv2dBlock-10            [-1, 4, 64, 64]               0\n",
      " ReplicationPad2d-11            [-1, 4, 66, 66]               0\n",
      "           Conv2d-12            [-1, 8, 32, 32]             520\n",
      "   InstanceNorm2d-13            [-1, 8, 32, 32]               0\n",
      "             ReLU-14            [-1, 8, 32, 32]               0\n",
      "      Conv2dBlock-15            [-1, 8, 32, 32]               0\n",
      "AdaptiveAvgPool2d-16              [-1, 8, 1, 1]               0\n",
      "           Conv2d-17              [-1, 8, 1, 1]              72\n",
      "================================================================\n",
      "Total params: 1,020\n",
      "Trainable params: 1,020\n",
      "Non-trainable params: 0\n",
      "----------------------------------------------------------------\n",
      "Input size (MB): 0.19\n",
      "Forward/backward pass size (MB): 2.55\n",
      "Params size (MB): 0.00\n",
      "Estimated Total Size (MB): 2.74\n",
      "----------------------------------------------------------------\n"
     ]
    }
   ],
   "source": [
    "enc = networks.StyleEncoder(1, 3, 2, 8,norm='in',activ='relu', pad_type='replicate').to(device)\n",
    "# model = enc()\n",
    "torchsummary.summary(enc,(3,128,128))"
   ]
  },
  {
   "cell_type": "code",
   "execution_count": 21,
   "metadata": {},
   "outputs": [
    {
     "name": "stdout",
     "output_type": "stream",
     "text": [
      "----------------------------------------------------------------\n",
      "        Layer (type)               Output Shape         Param #\n",
      "================================================================\n",
      "            Linear-1                    [-1, 8]              72\n",
      "              ReLU-2                    [-1, 8]               0\n",
      "       LinearBlock-3                    [-1, 8]               0\n",
      "            Linear-4                    [-1, 8]              72\n",
      "              ReLU-5                    [-1, 8]               0\n",
      "       LinearBlock-6                    [-1, 8]               0\n",
      "            Linear-7                    [-1, 4]              36\n",
      "       LinearBlock-8                    [-1, 4]               0\n",
      "================================================================\n",
      "Total params: 180\n",
      "Trainable params: 180\n",
      "Non-trainable params: 0\n",
      "----------------------------------------------------------------\n",
      "Input size (MB): 0.00\n",
      "Forward/backward pass size (MB): 0.00\n",
      "Params size (MB): 0.00\n",
      "Estimated Total Size (MB): 0.00\n",
      "----------------------------------------------------------------\n"
     ]
    }
   ],
   "source": [
    "mlp = networks.MLP(8,4,8,3).to(device)\n",
    "torchsummary.summary(mlp,(8,))"
   ]
  },
  {
   "cell_type": "code",
   "execution_count": 20,
   "metadata": {},
   "outputs": [],
   "source": [
    "params={\n",
    "    'n_layer': 4,\n",
    "    'gan_type': 'lsgan',\n",
    "    'dim': 4,\n",
    "    'norm': 'none',\n",
    "    'activ': 'lrelu',\n",
    "    'num_scales': 2,\n",
    "    'pad_type': 'replicate'\n",
    "}\n",
    "        "
   ]
  },
  {
   "cell_type": "code",
   "execution_count": 22,
   "metadata": {},
   "outputs": [
    {
     "name": "stdout",
     "output_type": "stream",
     "text": [
      "replicate\n",
      "----------------------------------------------------------------\n",
      "        Layer (type)               Output Shape         Param #\n",
      "================================================================\n",
      "  ReplicationPad3d-1     [-1, 2, 130, 130, 130]               0\n",
      "            Conv3d-2        [-1, 4, 64, 64, 64]             516\n",
      "         LeakyReLU-3        [-1, 4, 64, 64, 64]               0\n",
      "       Conv3dBlock-4        [-1, 4, 64, 64, 64]               0\n",
      "  ReplicationPad3d-5        [-1, 4, 66, 66, 66]               0\n",
      "            Conv3d-6        [-1, 8, 32, 32, 32]           2,056\n",
      "         LeakyReLU-7        [-1, 8, 32, 32, 32]               0\n",
      "       Conv3dBlock-8        [-1, 8, 32, 32, 32]               0\n",
      "  ReplicationPad3d-9        [-1, 8, 34, 34, 34]               0\n",
      "           Conv3d-10       [-1, 16, 16, 16, 16]           8,208\n",
      "        LeakyReLU-11       [-1, 16, 16, 16, 16]               0\n",
      "      Conv3dBlock-12       [-1, 16, 16, 16, 16]               0\n",
      " ReplicationPad3d-13       [-1, 16, 18, 18, 18]               0\n",
      "           Conv3d-14          [-1, 32, 8, 8, 8]          32,800\n",
      "        LeakyReLU-15          [-1, 32, 8, 8, 8]               0\n",
      "      Conv3dBlock-16          [-1, 32, 8, 8, 8]               0\n",
      "           Conv3d-17           [-1, 1, 8, 8, 8]              33\n",
      "        AvgPool3d-18        [-1, 2, 64, 64, 64]               0\n",
      " ReplicationPad3d-19        [-1, 2, 66, 66, 66]               0\n",
      "           Conv3d-20        [-1, 4, 32, 32, 32]             516\n",
      "        LeakyReLU-21        [-1, 4, 32, 32, 32]               0\n",
      "      Conv3dBlock-22        [-1, 4, 32, 32, 32]               0\n",
      " ReplicationPad3d-23        [-1, 4, 34, 34, 34]               0\n",
      "           Conv3d-24        [-1, 8, 16, 16, 16]           2,056\n",
      "        LeakyReLU-25        [-1, 8, 16, 16, 16]               0\n",
      "      Conv3dBlock-26        [-1, 8, 16, 16, 16]               0\n",
      " ReplicationPad3d-27        [-1, 8, 18, 18, 18]               0\n",
      "           Conv3d-28          [-1, 16, 8, 8, 8]           8,208\n",
      "        LeakyReLU-29          [-1, 16, 8, 8, 8]               0\n",
      "      Conv3dBlock-30          [-1, 16, 8, 8, 8]               0\n",
      " ReplicationPad3d-31       [-1, 16, 10, 10, 10]               0\n",
      "           Conv3d-32          [-1, 32, 4, 4, 4]          32,800\n",
      "        LeakyReLU-33          [-1, 32, 4, 4, 4]               0\n",
      "      Conv3dBlock-34          [-1, 32, 4, 4, 4]               0\n",
      "           Conv3d-35           [-1, 1, 4, 4, 4]              33\n",
      "        AvgPool3d-36        [-1, 2, 32, 32, 32]               0\n",
      "================================================================\n",
      "Total params: 87,226\n",
      "Trainable params: 87,226\n",
      "Non-trainable params: 0\n",
      "----------------------------------------------------------------\n",
      "Input size (MB): 16.00\n",
      "Forward/backward pass size (MB): 91.84\n",
      "Params size (MB): 0.33\n",
      "Estimated Total Size (MB): 108.17\n",
      "----------------------------------------------------------------\n"
     ]
    }
   ],
   "source": [
    "dis = networks3d.MsImageDis(2, params).to(device)\n",
    "torchsummary.summary(dis,(2,128,128,128))"
   ]
  },
  {
   "cell_type": "code",
   "execution_count": null,
   "metadata": {},
   "outputs": [],
   "source": [
    "hyperparameters={\n",
    "\"image_save_iter\": 1000,         # How often do you want to save output images during training\n",
    "\"image_display_iter\": 100,       # How often do you want to display output images during training\n",
    "\"display_size\": 8,               # How many images do you want to display each time\n",
    "\"snapshot_save_iter\": 10000,     # How often do you want to save trained models\n",
    "\"log_iter\": 1,                   # How often do you want to log the training stats\n",
    "\n",
    "# optimization options\n",
    "\"max_iter\": 1000000 ,            # maximum number of training iterations\n",
    "\"batch_size\": 1   ,              # batch size\n",
    "\"weight_decay\": 0.0001  ,        # weight decay\n",
    "\"beta1\": 0.5  ,                  # Adam parameter\n",
    "\"beta2\": 0.999 ,                 # Adam parameter\n",
    "\"init\": \"kaiming\" ,                # initialization [gaussian/kaiming/xavier/orthogonal]\n",
    "\"lr\": 0.0001 ,                   # initial learning rate\n",
    "\"lr_policy\": \"step\"    ,           # learning rate scheduler\n",
    "\"step_size\": 100000 ,            # how often to decay learning rate\n",
    "\"gamma\": 0.5    ,                # how much to decay learning rate\n",
    "\"gan_w\": 1       ,               # weight of adversarial loss\n",
    "\"recon_x_w\": 10  ,               # weight of image reconstruction loss\n",
    "\"recon_s_w\": 1  ,                # weight of style reconstruction loss\n",
    "\"recon_c_w\": 1 ,                 # weight of content reconstruction loss\n",
    "\"recon_x_cyc_w\": 0 ,             # weight of explicit style augmented cycle consistency loss\n",
    "\"vgg_w\": 0   ,                   # weight of domain-invariant perceptual loss\n",
    "\n",
    "# model options\n",
    "\"gen\"={\n",
    "    \n",
    "  \"dim\": 64  ,                   # number of filters in the bottommost layer\n",
    "  \"mlp_dim\": 256  ,              # number of filters in MLP\n",
    "  \"style_dim\": 8  ,              # length of style code\n",
    "  \"activ\": \"relu\" ,                # activation function [relu/lrelu/prelu/selu/tanh]\n",
    "  \"n_downsample\": 2  ,           # number of downsampling layers in content encoder\n",
    "  \"n_res\": 4         ,           # number of residual blocks in content encoder/decoder\n",
    "  \"pad_type\": \"reflect\",      \n",
    "    \n",
    "},\n",
    "       # padding type [zero/reflect]\n",
    "\"dis\"={\n",
    "  \"dim\": 64 ,                    # number of filters in the bottommost layer\n",
    "  \"norm\": \"none\" ,                 # normalization layer [none/bn/in/ln]\n",
    "  \"activ\": \"lrelu\" ,               # activation function [relu/lrelu/prelu/selu/tanh]\n",
    "  \"n_layer\": 4   ,               # number of layers in D\n",
    "  \"gan_type\": \"lsgan\" ,            # GAN loss [lsgan/nsgan]\n",
    "  \"num_scales\": 3    ,           # number of scales\n",
    "  \"pad_type\": \"replication\"          # padding type [zero/reflect]\n",
    "},\n",
    " \n",
    "\n",
    "# data options\n",
    "\"input_dim_a\": 3                              # number of image channels [1/3]\n",
    "\"input_dim_b\": 3                              # number of image channels [1/3]\n",
    "\"num_workers\": 8                              # number of data loading threads\n",
    "\"new_size\": 256                               # first resize the shortest image side to this size\n",
    "\"crop_image_height\": 256                      # random crop image of this height\n",
    "\"crop_image_width\": 256                       # random crop image of this width\n",
    "\"data_root\": './datasets/demo_edges2handbags/'     # dataset folder location\n",
    "}"
   ]
  },
  {
   "cell_type": "code",
   "execution_count": null,
   "metadata": {},
   "outputs": [],
   "source": [
    "munit_trainer = trainer.MUNIT_Trainer().to(device)\n",
    "torchsummary.summary(munit_trainer,(2,128,128,128))"
   ]
  }
 ],
 "metadata": {
  "kernelspec": {
   "display_name": "Python 3",
   "language": "python",
   "name": "python3"
  },
  "language_info": {
   "codemirror_mode": {
    "name": "ipython",
    "version": 3
   },
   "file_extension": ".py",
   "mimetype": "text/x-python",
   "name": "python",
   "nbconvert_exporter": "python",
   "pygments_lexer": "ipython3",
   "version": "3.8.5"
  }
 },
 "nbformat": 4,
 "nbformat_minor": 4
}
